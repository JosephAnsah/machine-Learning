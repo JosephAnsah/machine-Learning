{
 "cells": [
  {
   "cell_type": "markdown",
   "id": "5a73f76d",
   "metadata": {},
   "source": [
    "# [Problem 1] Linear function"
   ]
  },
  {
   "cell_type": "code",
   "execution_count": 5,
   "id": "24175a4d",
   "metadata": {},
   "outputs": [
    {
     "data": {
      "text/plain": [
       "(array([-50. , -49.9, -49.8, ...,  49.8,  49.9,  50. ]),\n",
       " array([-24.  , -23.95, -23.9 , ...,  25.9 ,  25.95,  26.  ]))"
      ]
     },
     "execution_count": 5,
     "metadata": {},
     "output_type": "execute_result"
    }
   ],
   "source": [
    "import numpy as np\n",
    "\n",
    "x_ndarray = np.arange(-50, 50.1, 0.1)\n",
    "y_ndarray = 0.5 * x_ndarray + 1\n",
    "x_ndarray, y_ndarray"
   ]
  },
  {
   "cell_type": "markdown",
   "id": "3caf42cd",
   "metadata": {},
   "source": [
    "# [Problem 2] Array combination"
   ]
  },
  {
   "cell_type": "code",
   "execution_count": 6,
   "id": "2af65d2c",
   "metadata": {},
   "outputs": [
    {
     "name": "stdout",
     "output_type": "stream",
     "text": [
      "[[-50.   -24.  ]\n",
      " [-49.9  -23.95]\n",
      " [-49.8  -23.9 ]\n",
      " ...\n",
      " [ 49.8   25.9 ]\n",
      " [ 49.9   25.95]\n",
      " [ 50.    26.  ]]\n"
     ]
    },
    {
     "data": {
      "text/plain": [
       "(1001, 2)"
      ]
     },
     "execution_count": 6,
     "metadata": {},
     "output_type": "execute_result"
    }
   ],
   "source": [
    "xy_ndarray = np.stack((x_ndarray, y_ndarray), -1)\n",
    "\n",
    "print(xy_ndarray)\n",
    "xy_ndarray.shape"
   ]
  },
  {
   "cell_type": "markdown",
   "id": "7a2336ed",
   "metadata": {},
   "source": [
    "# [Problem 3] Find the gradient"
   ]
  },
  {
   "cell_type": "code",
   "execution_count": 7,
   "id": "09773d1a",
   "metadata": {},
   "outputs": [
    {
     "data": {
      "text/plain": [
       "(1000, 1)"
      ]
     },
     "execution_count": 7,
     "metadata": {},
     "output_type": "execute_result"
    }
   ],
   "source": [
    "dx = np.diff(x_ndarray)\n",
    "dy = np.diff(y_ndarray)\n",
    "\n",
    "slope = dy/dx\n",
    "slope = slope.reshape(slope.shape[0], 1)\n",
    "\n",
    "slope.shape"
   ]
  },
  {
   "cell_type": "markdown",
   "id": "ce8168e8",
   "metadata": {},
   "source": [
    "# [Problem 4] Draw a graph"
   ]
  },
  {
   "cell_type": "code",
   "execution_count": 8,
   "id": "7e580585",
   "metadata": {},
   "outputs": [
    {
     "data": {
      "image/png": "[encoded data removed]",
      "text/plain": [
       "<Figure size 432x288 with 1 Axes>"
      ]
     },
     "metadata": {
      "needs_background": "light"
     },
     "output_type": "display_data"
    }
   ],
   "source": [
    "import matplotlib.pyplot as plt\n",
    "\n",
    "plt.xlabel(\"x\")\n",
    "plt.ylabel(\"Gradient\")\n",
    "plt.title(\"Linear Fxn\")\n",
    "plt.plot(x_ndarray, y_ndarray, lw=4, c ='b')\n",
    "plt.show()"
   ]
  },
  {
   "cell_type": "markdown",
   "id": "a1442d8b",
   "metadata": {},
   "source": [
    "# [Problem 5] Python functionalization"
   ]
  },
  {
   "cell_type": "code",
   "execution_count": 41,
   "id": "916240b5",
   "metadata": {},
   "outputs": [
    {
     "name": "stdout",
     "output_type": "stream",
     "text": [
      "(array([[ -50.  , 2500.  ],\n",
      "       [ -49.9 , 2490.01],\n",
      "       [ -49.8 , 2480.04],\n",
      "       ...,\n",
      "       [  49.8 , 2480.04],\n",
      "       [  49.9 , 2490.01],\n",
      "       [  50.  , 2500.  ]]), array([-99.9, -99.7, -99.5, -99.3, -99.1, -98.9, -98.7, -98.5, -98.3,\n",
      "       -98.1, -97.9, -97.7, -97.5, -97.3, -97.1, -96.9, -96.7, -96.5,\n",
      "       -96.3, -96.1, -95.9, -95.7, -95.5, -95.3, -95.1, -94.9, -94.7,\n",
      "       -94.5, -94.3, -94.1, -93.9, -93.7, -93.5, -93.3, -93.1, -92.9,\n",
      "       -92.7, -92.5, -92.3, -92.1, -91.9, -91.7, -91.5, -91.3, -91.1,\n",
      "       -90.9, -90.7, -90.5, -90.3, -90.1, -89.9, -89.7, -89.5, -89.3,\n",
      "       -89.1, -88.9, -88.7, -88.5, -88.3, -88.1, -87.9, -87.7, -87.5,\n",
      "       -87.3, -87.1, -86.9, -86.7, -86.5, -86.3, -86.1, -85.9, -85.7,\n",
      "       -85.5, -85.3, -85.1, -84.9, -84.7, -84.5, -84.3, -84.1, -83.9,\n",
      "       -83.7, -83.5, -83.3, -83.1, -82.9, -82.7, -82.5, -82.3, -82.1,\n",
      "       -81.9, -81.7, -81.5, -81.3, -81.1, -80.9, -80.7, -80.5, -80.3,\n",
      "       -80.1, -79.9, -79.7, -79.5, -79.3, -79.1, -78.9, -78.7, -78.5,\n",
      "       -78.3, -78.1, -77.9, -77.7, -77.5, -77.3, -77.1, -76.9, -76.7,\n",
      "       -76.5, -76.3, -76.1, -75.9, -75.7, -75.5, -75.3, -75.1, -74.9,\n",
      "       -74.7, -74.5, -74.3, -74.1, -73.9, -73.7, -73.5, -73.3, -73.1,\n",
      "       -72.9, -72.7, -72.5, -72.3, -72.1, -71.9, -71.7, -71.5, -71.3,\n",
      "       -71.1, -70.9, -70.7, -70.5, -70.3, -70.1, -69.9, -69.7, -69.5,\n",
      "       -69.3, -69.1, -68.9, -68.7, -68.5, -68.3, -68.1, -67.9, -67.7,\n",
      "       -67.5, -67.3, -67.1, -66.9, -66.7, -66.5, -66.3, -66.1, -65.9,\n",
      "       -65.7, -65.5, -65.3, -65.1, -64.9, -64.7, -64.5, -64.3, -64.1,\n",
      "       -63.9, -63.7, -63.5, -63.3, -63.1, -62.9, -62.7, -62.5, -62.3,\n",
      "       -62.1, -61.9, -61.7, -61.5, -61.3, -61.1, -60.9, -60.7, -60.5,\n",
      "       -60.3, -60.1, -59.9, -59.7, -59.5, -59.3, -59.1, -58.9, -58.7,\n",
      "       -58.5, -58.3, -58.1, -57.9, -57.7, -57.5, -57.3, -57.1, -56.9,\n",
      "       -56.7, -56.5, -56.3, -56.1, -55.9, -55.7, -55.5, -55.3, -55.1,\n",
      "       -54.9, -54.7, -54.5, -54.3, -54.1, -53.9, -53.7, -53.5, -53.3,\n",
      "       -53.1, -52.9, -52.7, -52.5, -52.3, -52.1, -51.9, -51.7, -51.5,\n",
      "       -51.3, -51.1, -50.9, -50.7, -50.5, -50.3, -50.1, -49.9, -49.7,\n",
      "       -49.5, -49.3, -49.1, -48.9, -48.7, -48.5, -48.3, -48.1, -47.9,\n",
      "       -47.7, -47.5, -47.3, -47.1, -46.9, -46.7, -46.5, -46.3, -46.1,\n",
      "       -45.9, -45.7, -45.5, -45.3, -45.1, -44.9, -44.7, -44.5, -44.3,\n",
      "       -44.1, -43.9, -43.7, -43.5, -43.3, -43.1, -42.9, -42.7, -42.5,\n",
      "       -42.3, -42.1, -41.9, -41.7, -41.5, -41.3, -41.1, -40.9, -40.7,\n",
      "       -40.5, -40.3, -40.1, -39.9, -39.7, -39.5, -39.3, -39.1, -38.9,\n",
      "       -38.7, -38.5, -38.3, -38.1, -37.9, -37.7, -37.5, -37.3, -37.1,\n",
      "       -36.9, -36.7, -36.5, -36.3, -36.1, -35.9, -35.7, -35.5, -35.3,\n",
      "       -35.1, -34.9, -34.7, -34.5, -34.3, -34.1, -33.9, -33.7, -33.5,\n",
      "       -33.3, -33.1, -32.9, -32.7, -32.5, -32.3, -32.1, -31.9, -31.7,\n",
      "       -31.5, -31.3, -31.1, -30.9, -30.7, -30.5, -30.3, -30.1, -29.9,\n",
      "       -29.7, -29.5, -29.3, -29.1, -28.9, -28.7, -28.5, -28.3, -28.1,\n",
      "       -27.9, -27.7, -27.5, -27.3, -27.1, -26.9, -26.7, -26.5, -26.3,\n",
      "       -26.1, -25.9, -25.7, -25.5, -25.3, -25.1, -24.9, -24.7, -24.5,\n",
      "       -24.3, -24.1, -23.9, -23.7, -23.5, -23.3, -23.1, -22.9, -22.7,\n",
      "       -22.5, -22.3, -22.1, -21.9, -21.7, -21.5, -21.3, -21.1, -20.9,\n",
      "       -20.7, -20.5, -20.3, -20.1, -19.9, -19.7, -19.5, -19.3, -19.1,\n",
      "       -18.9, -18.7, -18.5, -18.3, -18.1, -17.9, -17.7, -17.5, -17.3,\n",
      "       -17.1, -16.9, -16.7, -16.5, -16.3, -16.1, -15.9, -15.7, -15.5,\n",
      "       -15.3, -15.1, -14.9, -14.7, -14.5, -14.3, -14.1, -13.9, -13.7,\n",
      "       -13.5, -13.3, -13.1, -12.9, -12.7, -12.5, -12.3, -12.1, -11.9,\n",
      "       -11.7, -11.5, -11.3, -11.1, -10.9, -10.7, -10.5, -10.3, -10.1,\n",
      "        -9.9,  -9.7,  -9.5,  -9.3,  -9.1,  -8.9,  -8.7,  -8.5,  -8.3,\n",
      "        -8.1,  -7.9,  -7.7,  -7.5,  -7.3,  -7.1,  -6.9,  -6.7,  -6.5,\n",
      "        -6.3,  -6.1,  -5.9,  -5.7,  -5.5,  -5.3,  -5.1,  -4.9,  -4.7,\n",
      "        -4.5,  -4.3,  -4.1,  -3.9,  -3.7,  -3.5,  -3.3,  -3.1,  -2.9,\n",
      "        -2.7,  -2.5,  -2.3,  -2.1,  -1.9,  -1.7,  -1.5,  -1.3,  -1.1,\n",
      "        -0.9,  -0.7,  -0.5,  -0.3,  -0.1,   0.1,   0.3,   0.5,   0.7,\n",
      "         0.9,   1.1,   1.3,   1.5,   1.7,   1.9,   2.1,   2.3,   2.5,\n",
      "         2.7,   2.9,   3.1,   3.3,   3.5,   3.7,   3.9,   4.1,   4.3,\n",
      "         4.5,   4.7,   4.9,   5.1,   5.3,   5.5,   5.7,   5.9,   6.1,\n",
      "         6.3,   6.5,   6.7,   6.9,   7.1,   7.3,   7.5,   7.7,   7.9,\n",
      "         8.1,   8.3,   8.5,   8.7,   8.9,   9.1,   9.3,   9.5,   9.7,\n",
      "         9.9,  10.1,  10.3,  10.5,  10.7,  10.9,  11.1,  11.3,  11.5,\n",
      "        11.7,  11.9,  12.1,  12.3,  12.5,  12.7,  12.9,  13.1,  13.3,\n",
      "        13.5,  13.7,  13.9,  14.1,  14.3,  14.5,  14.7,  14.9,  15.1,\n",
      "        15.3,  15.5,  15.7,  15.9,  16.1,  16.3,  16.5,  16.7,  16.9,\n",
      "        17.1,  17.3,  17.5,  17.7,  17.9,  18.1,  18.3,  18.5,  18.7,\n",
      "        18.9,  19.1,  19.3,  19.5,  19.7,  19.9,  20.1,  20.3,  20.5,\n",
      "        20.7,  20.9,  21.1,  21.3,  21.5,  21.7,  21.9,  22.1,  22.3,\n",
      "        22.5,  22.7,  22.9,  23.1,  23.3,  23.5,  23.7,  23.9,  24.1,\n",
      "        24.3,  24.5,  24.7,  24.9,  25.1,  25.3,  25.5,  25.7,  25.9,\n",
      "        26.1,  26.3,  26.5,  26.7,  26.9,  27.1,  27.3,  27.5,  27.7,\n",
      "        27.9,  28.1,  28.3,  28.5,  28.7,  28.9,  29.1,  29.3,  29.5,\n",
      "        29.7,  29.9,  30.1,  30.3,  30.5,  30.7,  30.9,  31.1,  31.3,\n",
      "        31.5,  31.7,  31.9,  32.1,  32.3,  32.5,  32.7,  32.9,  33.1,\n",
      "        33.3,  33.5,  33.7,  33.9,  34.1,  34.3,  34.5,  34.7,  34.9,\n",
      "        35.1,  35.3,  35.5,  35.7,  35.9,  36.1,  36.3,  36.5,  36.7,\n",
      "        36.9,  37.1,  37.3,  37.5,  37.7,  37.9,  38.1,  38.3,  38.5,\n",
      "        38.7,  38.9,  39.1,  39.3,  39.5,  39.7,  39.9,  40.1,  40.3,\n",
      "        40.5,  40.7,  40.9,  41.1,  41.3,  41.5,  41.7,  41.9,  42.1,\n",
      "        42.3,  42.5,  42.7,  42.9,  43.1,  43.3,  43.5,  43.7,  43.9,\n",
      "        44.1,  44.3,  44.5,  44.7,  44.9,  45.1,  45.3,  45.5,  45.7,\n",
      "        45.9,  46.1,  46.3,  46.5,  46.7,  46.9,  47.1,  47.3,  47.5,\n",
      "        47.7,  47.9,  48.1,  48.3,  48.5,  48.7,  48.9,  49.1,  49.3,\n",
      "        49.5,  49.7,  49.9,  50.1,  50.3,  50.5,  50.7,  50.9,  51.1,\n",
      "        51.3,  51.5,  51.7,  51.9,  52.1,  52.3,  52.5,  52.7,  52.9,\n",
      "        53.1,  53.3,  53.5,  53.7,  53.9,  54.1,  54.3,  54.5,  54.7,\n",
      "        54.9,  55.1,  55.3,  55.5,  55.7,  55.9,  56.1,  56.3,  56.5,\n",
      "        56.7,  56.9,  57.1,  57.3,  57.5,  57.7,  57.9,  58.1,  58.3,\n",
      "        58.5,  58.7,  58.9,  59.1,  59.3,  59.5,  59.7,  59.9,  60.1,\n",
      "        60.3,  60.5,  60.7,  60.9,  61.1,  61.3,  61.5,  61.7,  61.9,\n",
      "        62.1,  62.3,  62.5,  62.7,  62.9,  63.1,  63.3,  63.5,  63.7,\n",
      "        63.9,  64.1,  64.3,  64.5,  64.7,  64.9,  65.1,  65.3,  65.5,\n",
      "        65.7,  65.9,  66.1,  66.3,  66.5,  66.7,  66.9,  67.1,  67.3,\n",
      "        67.5,  67.7,  67.9,  68.1,  68.3,  68.5,  68.7,  68.9,  69.1,\n",
      "        69.3,  69.5,  69.7,  69.9,  70.1,  70.3,  70.5,  70.7,  70.9,\n",
      "        71.1,  71.3,  71.5,  71.7,  71.9,  72.1,  72.3,  72.5,  72.7,\n",
      "        72.9,  73.1,  73.3,  73.5,  73.7,  73.9,  74.1,  74.3,  74.5,\n",
      "        74.7,  74.9,  75.1,  75.3,  75.5,  75.7,  75.9,  76.1,  76.3,\n",
      "        76.5,  76.7,  76.9,  77.1,  77.3,  77.5,  77.7,  77.9,  78.1,\n",
      "        78.3,  78.5,  78.7,  78.9,  79.1,  79.3,  79.5,  79.7,  79.9,\n",
      "        80.1,  80.3,  80.5,  80.7,  80.9,  81.1,  81.3,  81.5,  81.7,\n",
      "        81.9,  82.1,  82.3,  82.5,  82.7,  82.9,  83.1,  83.3,  83.5,\n",
      "        83.7,  83.9,  84.1,  84.3,  84.5,  84.7,  84.9,  85.1,  85.3,\n",
      "        85.5,  85.7,  85.9,  86.1,  86.3,  86.5,  86.7,  86.9,  87.1,\n",
      "        87.3,  87.5,  87.7,  87.9,  88.1,  88.3,  88.5,  88.7,  88.9,\n",
      "        89.1,  89.3,  89.5,  89.7,  89.9,  90.1,  90.3,  90.5,  90.7,\n",
      "        90.9,  91.1,  91.3,  91.5,  91.7,  91.9,  92.1,  92.3,  92.5,\n",
      "        92.7,  92.9,  93.1,  93.3,  93.5,  93.7,  93.9,  94.1,  94.3,\n",
      "        94.5,  94.7,  94.9,  95.1,  95.3,  95.5,  95.7,  95.9,  96.1,\n",
      "        96.3,  96.5,  96.7,  96.9,  97.1,  97.3,  97.5,  97.7,  97.9,\n",
      "        98.1,  98.3,  98.5,  98.7,  98.9,  99.1,  99.3,  99.5,  99.7,\n",
      "        99.9]))\n"
     ]
    }
   ],
   "source": [
    "import numpy as np\n",
    "def compute_gradient(function, x_range=(-50, 50.1, 0.1)):\n",
    "    x_array = np.arange(* x_range)\n",
    "    y_array = function(x_array)\n",
    "    \n",
    "    xy_array = np.concatenate((x_array[:, np.newaxis], y_array[:, np.newaxis]), axis = 1)\n",
    "    gradient = (xy_array[1:, 1] - xy_array[:-1, 1]) / (xy_array[1:, 0] - xy_array[:-1, 0])\n",
    "    \n",
    "    return xy_array, gradient\n",
    "\n",
    "def fxn(x_array):\n",
    "    y_array = x_array ** 2\n",
    "    \n",
    "    return y_array\n",
    "\n",
    "def fxn1(x_array):\n",
    "    y_array = 2* x_array ** 2 + 2** x_array\n",
    "    \n",
    "    return 2* x_array ** 2 + 2** x_array\n",
    "\n",
    "def fxn2(x_array):\n",
    "    y_array = x_array ** 0.5\n",
    "    \n",
    "    return x_array ** 0.5\n",
    "\n",
    "xy_array1, gradient1 = compute_gradient(fxn)\n",
    "print(compute_gradient(fxn))"
   ]
  },
  {
   "cell_type": "code",
   "execution_count": 42,
   "id": "15613533",
   "metadata": {},
   "outputs": [
    {
     "data": {
      "image/png": "[encoded data removed]",
      "text/plain": [
       "<Figure size 432x288 with 1 Axes>"
      ]
     },
     "metadata": {
      "needs_background": "light"
     },
     "output_type": "display_data"
    },
    {
     "data": {
      "image/png": "[encoded data removed]",
      "text/plain": [
       "<Figure size 432x288 with 1 Axes>"
      ]
     },
     "metadata": {
      "needs_background": "light"
     },
     "output_type": "display_data"
    }
   ],
   "source": [
    "plt.xlabel(\"x\")\n",
    "plt.ylabel(\"y\")\n",
    "plt.title(\"y = x**2\")\n",
    "plt.plot(xy_array1[:, 0], xy_array1[:, 1], lw=6, c ='b')\n",
    "plt.show()\n",
    "\n",
    "plt.xlabel(\"x\")\n",
    "plt.ylabel(\"gradient\")\n",
    "plt.title(\"gradient of y = x**2\")\n",
    "plt.plot(xy_array1[:-1, 0], gradient1, lw=6, c ='orange')\n",
    "plt.show()"
   ]
  },
  {
   "cell_type": "code",
   "execution_count": null,
   "id": "b4e8d1c2",
   "metadata": {},
   "outputs": [],
   "source": []
  },
  {
   "cell_type": "markdown",
   "id": "af989946",
   "metadata": {},
   "source": [
    "# [Problem 6] Find the minimum value"
   ]
  },
  {
   "cell_type": "code",
   "execution_count": 44,
   "id": "030cd6d8",
   "metadata": {},
   "outputs": [
    {
     "data": {
      "text/plain": [
       "'The minimum value of y for this function is 5.048709793414476e-25 and its index is 500'"
      ]
     },
     "execution_count": 44,
     "metadata": {},
     "output_type": "execute_result"
    }
   ],
   "source": [
    "def compute_gradient(function, x_range=(-50, 50.1, 0.1)):\n",
    "    array_x = np.arange(* x_range)\n",
    "    array_y = function(array_x)\n",
    "    min_Y_val = np.min(array_y)\n",
    "    min_Y_arg = np.argmin(array_y)\n",
    "    array_xy = np.stack((array_x, array_y), -1)\n",
    "    gradient = np.diff(array_y) / np.diff(array_x)\n",
    "    \n",
    "    return f'The minimum value of y for this function is {min_Y_val} and its index is {min_Y_arg}'\n",
    "\n",
    "compute_gradient(fxn)\n"
   ]
  },
  {
   "cell_type": "code",
   "execution_count": 45,
   "id": "9d07fdcd",
   "metadata": {},
   "outputs": [
    {
     "data": {
      "text/plain": [
       "'The minimum value of y for this function is 0.9505505632959851 and its index is 498'"
      ]
     },
     "execution_count": 45,
     "metadata": {},
     "output_type": "execute_result"
    }
   ],
   "source": [
    "compute_gradient(fxn1)"
   ]
  },
  {
   "cell_type": "code",
   "execution_count": null,
   "id": "36e0664b",
   "metadata": {},
   "outputs": [],
   "source": []
  }
 ],
 "metadata": {
  "kernelspec": {
   "display_name": "Python 3 (ipykernel)",
   "language": "python",
   "name": "python3"
  },
  "language_info": {
   "codemirror_mode": {
    "name": "ipython",
    "version": 3
   },
   "file_extension": ".py",
   "mimetype": "text/x-python",
   "name": "python",
   "nbconvert_exporter": "python",
   "pygments_lexer": "ipython3",
   "version": "3.9.7"
  }
 },
 "nbformat": 4,
 "nbformat_minor": 5
}
