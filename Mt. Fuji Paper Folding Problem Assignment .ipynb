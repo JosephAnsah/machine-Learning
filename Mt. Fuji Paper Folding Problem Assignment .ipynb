{
 "cells": [
  {
   "cell_type": "markdown",
   "id": "5a24f362",
   "metadata": {},
   "source": [
    "# [Problem 1] How many times to fold paper to exceed the height of Mt.Fuji?"
   ]
  },
  {
   "cell_type": "code",
   "execution_count": null,
   "id": "5ace3032",
   "metadata": {},
   "outputs": [],
   "source": []
  },
  {
   "cell_type": "code",
   "execution_count": 7,
   "id": "fff47fa0",
   "metadata": {},
   "outputs": [
    {
     "data": {
      "text/plain": [
       "26"
      ]
     },
     "execution_count": 7,
     "metadata": {},
     "output_type": "execute_result"
    }
   ],
   "source": [
    "Mt_FUJI = 3776\n",
    "THICKNESS = 0.00008\n",
    "\n",
    "def folds_height(height = 1000, thickness = 0.00008):\n",
    "    if height < thickness:\n",
    "        return 0\n",
    "    folded_thickness = 0\n",
    "    i = 0\n",
    "    while height > folded_thickness:\n",
    "        i += 1\n",
    "        folded_thickness = thickness * 2 ** i\n",
    "    return i\n",
    "\n",
    "folds_height(Mt_FUJI, THICKNESS)"
   ]
  },
  {
   "cell_type": "markdown",
   "id": "19bbf979",
   "metadata": {},
   "source": [
    "# [Problem 2] Function corresponding to arbitrary thickness"
   ]
  },
  {
   "cell_type": "code",
   "execution_count": 21,
   "id": "7eed8d7e",
   "metadata": {},
   "outputs": [
    {
     "name": "stdout",
     "output_type": "stream",
     "text": [
      "Enter Distance: 70\n",
      "The number of folds is: 20 times\n"
     ]
    }
   ],
   "source": [
    "import math\n",
    "THICKNESS = 0.00008\n",
    "\n",
    "def nbr_folds(distance):\n",
    "    nbr_foldss = math.log(distance/THICKNESS)/ math.log(2)\n",
    "    \n",
    "    return nbr_foldss\n",
    "\n",
    "nbr_foldss = nbr_folds(distance = float(input(\"Enter Distance: \")))\n",
    "\n",
    "print(\"The number of folds is: {} times\" .format(round(nbr_foldss)))"
   ]
  },
  {
   "cell_type": "markdown",
   "id": "778ce9e3",
   "metadata": {},
   "source": [
    "# Proxima Centauri"
   ]
  },
  {
   "cell_type": "code",
   "execution_count": 27,
   "id": "04d289ce",
   "metadata": {},
   "outputs": [
    {
     "name": "stdout",
     "output_type": "stream",
     "text": [
      "The number of folds is: 56 times\n"
     ]
    }
   ],
   "source": [
    "import math\n",
    "THICKNESS = 0.00008\n",
    "\n",
    "def nbr_folds(distance):\n",
    "    nbr_foldss = math.log(distance/THICKNESS)/ math.log(2)\n",
    "    \n",
    "    return nbr_foldss\n",
    "\n",
    "nbr_foldss = nbr_folds(distance = 4208000000000)\n",
    "\n",
    "print(\"The number of folds is: {} times\" .format(round(nbr_foldss)))"
   ]
  },
  {
   "cell_type": "markdown",
   "id": "07cacaf8",
   "metadata": {},
   "source": [
    "# [Problem 3] Required paper length"
   ]
  },
  {
   "cell_type": "code",
   "execution_count": 24,
   "id": "b7e12d86",
   "metadata": {},
   "outputs": [
    {
     "name": "stdout",
     "output_type": "stream",
     "text": [
      "188646348487\n"
     ]
    }
   ],
   "source": [
    "import math\n",
    "\n",
    "Mt_FUJI = 3776\n",
    "THICKNESS = 0.00008\n",
    "\n",
    "def folds_height(height = 1000, thickness = 0.00008):\n",
    "    if height < thickness:\n",
    "        return 0\n",
    "    folded_thickness = 0\n",
    "    i = 0\n",
    "    while height > folded_thickness:\n",
    "        i += 1\n",
    "        folded_thickness = thickness * 2 ** i\n",
    "    return i\n",
    "\n",
    "folds_height(Mt_FUJI, THICKNESS)\n",
    "\n",
    "def required_length(nbr_fold, thickness = 0.00008):\n",
    "    length = (math.pi * thickness * (2**nbr_fold + 4) * (2 ** nbr_fold - 1)) / 6\n",
    "    \n",
    "    return int(length)\n",
    "\n",
    "print(required_length(folds_height(Mt_FUJI ,THICKNESS)))"
   ]
  },
  {
   "cell_type": "markdown",
   "id": "cda49d7c",
   "metadata": {},
   "source": [
    "# The length of paper needed to reach the Moon"
   ]
  },
  {
   "cell_type": "code",
   "execution_count": 25,
   "id": "9753e138",
   "metadata": {},
   "outputs": [
    {
     "name": "stdout",
     "output_type": "stream",
     "text": [
      "3090781636525682\n"
     ]
    }
   ],
   "source": [
    "import math \n",
    "\n",
    "moon = 384400\n",
    "def required_length(nbr_fold, thickness = 0.00008):\n",
    "    length = (math.pi * thickness * (2**nbr_fold + 4) * (2 ** nbr_fold - 1)) / 6\n",
    "    \n",
    "    return int(length)\n",
    "\n",
    "print(required_length(folds_height(moon ,THICKNESS)))"
   ]
  },
  {
   "cell_type": "code",
   "execution_count": null,
   "id": "cbbb1e93",
   "metadata": {},
   "outputs": [],
   "source": []
  }
 ],
 "metadata": {
  "kernelspec": {
   "display_name": "Python 3 (ipykernel)",
   "language": "python",
   "name": "python3"
  },
  "language_info": {
   "codemirror_mode": {
    "name": "ipython",
    "version": 3
   },
   "file_extension": ".py",
   "mimetype": "text/x-python",
   "name": "python",
   "nbconvert_exporter": "python",
   "pygments_lexer": "ipython3",
   "version": "3.9.7"
  }
 },
 "nbformat": 4,
 "nbformat_minor": 5
}
