{
 "cells": [
  {
   "cell_type": "markdown",
   "id": "0de7e67d",
   "metadata": {},
   "source": [
    "# [Problem] The day when chestnut buns cover the solar system"
   ]
  },
  {
   "cell_type": "code",
   "execution_count": 33,
   "id": "464f64eb",
   "metadata": {},
   "outputs": [
    {
     "name": "stdout",
     "output_type": "stream",
     "text": [
      "It will take chestnut bun 35mins to cover the solar system. \n"
     ]
    }
   ],
   "source": [
    "def solarSys(obj_size):\n",
    "    #assuming the volume of the solar system is 50000 m^3\n",
    "    solarSys_size = 50000\n",
    "    \n",
    "    time = 0\n",
    "    \n",
    "    while True:\n",
    "        if obj_size >= solarSys_size:\n",
    "            break\n",
    "        else:\n",
    "            obj_size *= 2\n",
    "            time += 5\n",
    "    \n",
    "    return print(\"It will take chestnut bun {}mins to cover the solar system. \" .format(time))\n",
    "#assuming the volume of a chestnut bun is 500 m^3\n",
    "solarSys(500)"
   ]
  },
  {
   "cell_type": "markdown",
   "id": "85b7d39c",
   "metadata": {},
   "source": [
    "# Tokyo Dome"
   ]
  },
  {
   "cell_type": "code",
   "execution_count": null,
   "id": "3cbc144a",
   "metadata": {},
   "outputs": [],
   "source": [
    "import matplotlib.pyplot as plt\n",
    "def Tokyo_Dome(object_size):\n",
    "    size_tokyo_dome = 500000 #size in cubic metrs (Tokyo Dome)\n",
    "    time = 0\n",
    "    minutes = []\n",
    "    size = []\n",
    "    while True:\n",
    "        if object_size >= size_tokyo_dome:\n",
    "            break\n",
    "        else:\n",
    "            object_size *=2\n",
    "            time +=5\n",
    "            minutes.append(time)\n",
    "            size.apppend(object_size)\n",
    "     \n",
    "    \n",
    "    \n",
    "    plt.xlabel(\"Time in Minutes\")\n",
    "    plt.ylabel(\"Size of the object\")\n",
    "    plt.title(\"Relating to Tokyo Dome Situation\")\n",
    "    plt.legend(loc = \"upper center\")\n",
    "    plt.plot(minutes, size, 'b-o', lw=2, ms =12, mec = 'orange', mew =3, c ='blue')\n",
    "    plt.show()\n",
    "    print(\"It takes {} minutes\" .format(time)) \n",
    "Tokyo_Dome(10000)"
   ]
  },
  {
   "cell_type": "code",
   "execution_count": null,
   "id": "59ee8069",
   "metadata": {},
   "outputs": [],
   "source": []
  }
 ],
 "metadata": {
  "kernelspec": {
   "display_name": "Python 3 (ipykernel)",
   "language": "python",
   "name": "python3"
  },
  "language_info": {
   "codemirror_mode": {
    "name": "ipython",
    "version": 3
   },
   "file_extension": ".py",
   "mimetype": "text/x-python",
   "name": "python",
   "nbconvert_exporter": "python",
   "pygments_lexer": "ipython3",
   "version": "3.9.7"
  }
 },
 "nbformat": 4,
 "nbformat_minor": 5
}
