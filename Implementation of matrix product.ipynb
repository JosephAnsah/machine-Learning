{
 "cells": [
  {
   "cell_type": "markdown",
   "id": "99c48ad0",
   "metadata": {},
   "source": [
    "# [Problem 1] Matrix product is calculated manually"
   ]
  },
  {
   "cell_type": "raw",
   "id": "db9a93fc",
   "metadata": {},
   "source": [
    "A = [-1 2 3\n",
    "    4 -5 6\n",
    "    7 8 -9]\n",
    "    \n",
    "B = [0 2 1\n",
    "     0 2 -8\n",
    "     2 9 -1]\n",
    "     \n",
    "\n",
    "     \n",
    "     "
   ]
  },
  {
   "cell_type": "markdown",
   "id": "58e2ca7c",
   "metadata": {},
   "source": [
    "# [Problem 2] Calculation by NumPy function"
   ]
  },
  {
   "cell_type": "code",
   "execution_count": 2,
   "id": "e56430a5",
   "metadata": {},
   "outputs": [
    {
     "name": "stdout",
     "output_type": "stream",
     "text": [
      "[[  6  29 -20]\n",
      " [ 12  52  38]\n",
      " [-18 -51 -48]]\n"
     ]
    }
   ],
   "source": [
    "import numpy as np\n",
    "a_ndarray = np.array([[-1, 2, 3], [4, -5, 6], [7, 8, -9]])\n",
    "b_ndarray = np.array([[0, 2, 1], [0, 2, -8], [2, 9, -1]])\n",
    "\n",
    "ab_ndarray = a_ndarray @ b_ndarray\n",
    "\n",
    "print(ab_ndarray)"
   ]
  },
  {
   "cell_type": "markdown",
   "id": "ade13767",
   "metadata": {},
   "source": [
    "# [Problem 3] Implementation of calculation of a certain element"
   ]
  },
  {
   "cell_type": "code",
   "execution_count": 3,
   "id": "8198119d",
   "metadata": {},
   "outputs": [
    {
     "name": "stdout",
     "output_type": "stream",
     "text": [
      "52\n"
     ]
    }
   ],
   "source": [
    "sum_of_ab_ndarray = (a_ndarray[1][0]*b_ndarray[0][1])+(a_ndarray[1][1]*b_ndarray[1][1])+(a_ndarray[1][2]*b_ndarray[2][1])\n",
    "print(sum_of_ab_ndarray)"
   ]
  },
  {
   "cell_type": "markdown",
   "id": "b103c7a1",
   "metadata": {},
   "source": [
    "# [Problem 4] Creating a function that performs matrix multiplication"
   ]
  },
  {
   "cell_type": "code",
   "execution_count": 6,
   "id": "41939831",
   "metadata": {},
   "outputs": [
    {
     "name": "stdout",
     "output_type": "stream",
     "text": [
      "[[  6.  29. -20.]\n",
      " [ 12.  52.  38.]\n",
      " [-18. -51. -48.]]\n"
     ]
    }
   ],
   "source": [
    "def product_of_matrix(a, b):\n",
    "    ab_ndarray = np.empty([3,3])\n",
    "    for row in range(a.shape[0]):\n",
    "        for column in range(b.shape[1]):\n",
    "            ab_ndarray[row][column] = sum(a[row, :]*b[:, column])\n",
    "    return ab_ndarray\n",
    "print(product_of_matrix(a_ndarray, b_ndarray))"
   ]
  },
  {
   "cell_type": "markdown",
   "id": "196a813b",
   "metadata": {},
   "source": [
    "# [Problem 5] Judge the input whose calculation is not defined"
   ]
  },
  {
   "cell_type": "code",
   "execution_count": 7,
   "id": "215a80a0",
   "metadata": {},
   "outputs": [
    {
     "name": "stdout",
     "output_type": "stream",
     "text": [
      "Incorrect computations\n"
     ]
    }
   ],
   "source": [
    "d_ndarray = np.array([[-1, 2, 3], [4, -5, 6]])\n",
    "e_ndarray = np.array([[-9, 8, 7], [6, -5, 4]])\n",
    "\n",
    "if (d_ndarray.shape[0] == e_ndarray.shape[1]):\n",
    "    print(product_of_matrix(d_ndarray, e_ndarray))\n",
    "else:\n",
    "    print(\"Incorrect computations\")"
   ]
  },
  {
   "cell_type": "markdown",
   "id": "4723c8ab",
   "metadata": {},
   "source": [
    "# [Problem 6] Transposition"
   ]
  },
  {
   "cell_type": "code",
   "execution_count": 8,
   "id": "fb0da995",
   "metadata": {},
   "outputs": [
    {
     "name": "stdout",
     "output_type": "stream",
     "text": [
      "[[ 33. -28.   9.]\n",
      " [-48.  41.  -6.]\n",
      " [  9.  -6.  45.]]\n"
     ]
    }
   ],
   "source": [
    "f_ndarray = d_ndarray.T\n",
    "print(product_of_matrix(f_ndarray, e_ndarray))"
   ]
  },
  {
   "cell_type": "code",
   "execution_count": null,
   "id": "866d621b",
   "metadata": {},
   "outputs": [],
   "source": []
  }
 ],
 "metadata": {
  "kernelspec": {
   "display_name": "Python 3 (ipykernel)",
   "language": "python",
   "name": "python3"
  },
  "language_info": {
   "codemirror_mode": {
    "name": "ipython",
    "version": 3
   },
   "file_extension": ".py",
   "mimetype": "text/x-python",
   "name": "python",
   "nbconvert_exporter": "python",
   "pygments_lexer": "ipython3",
   "version": "3.9.7"
  }
 },
 "nbformat": 4,
 "nbformat_minor": 5
}
