{
 "cells": [
  {
   "cell_type": "markdown",
   "id": "0c52c79c",
   "metadata": {},
   "source": [
    "# [Question 1] Number of wheat on a 2x2 square chessboard"
   ]
  },
  {
   "cell_type": "code",
   "execution_count": 4,
   "id": "a6031dc0",
   "metadata": {},
   "outputs": [
    {
     "name": "stdout",
     "output_type": "stream",
     "text": [
      "The number of wheats on 2x2 shaped ndarray are：\n",
      "[[1 2]\n",
      " [4 8]]\n"
     ]
    }
   ],
   "source": [
    "import numpy as np\n",
    "n_squares = 4\n",
    "small_board_list = [1]\n",
    "for _ in range(n_squares - 1):\n",
    "    small_board_list.append(2*small_board_list[-1])\n",
    "    \n",
    "small_board_ndarray = np.array(small_board_list).reshape(2, 2)\n",
    "print(\"The number of wheats on 2x2 shaped ndarray are：\\n{}\".format(small_board_ndarray))"
   ]
  },
  {
   "cell_type": "markdown",
   "id": "da4f7238",
   "metadata": {},
   "source": [
    "# [Problem 2] Extension to n × m squares"
   ]
  },
  {
   "cell_type": "markdown",
   "id": "7b65e66a",
   "metadata": {},
   "source": [
    "# def nbr_wheat(n, m):\n",
    "    chess_square = n*m\n",
    "    chessBoardlist = [1]\n",
    "    \n",
    "    for square in range (chess_square - 1):\n",
    "        chessBoardlist.append(2*chessBoardlist[square])\n",
    "        \n",
    "    return np.array(chessBoardlist).reshape(n, m).astype(np.uint64)\n",
    "\n",
    "print(\"Number of wheat on a 8x8 chess board is: \\n{}\" .format(nbr_wheat(8, 8)))"
   ]
  },
  {
   "cell_type": "markdown",
   "id": "9426c920",
   "metadata": {},
   "source": [
    "# [Question 3] Total number of wheat"
   ]
  },
  {
   "cell_type": "code",
   "execution_count": 7,
   "id": "84b07f95",
   "metadata": {},
   "outputs": [
    {
     "name": "stdout",
     "output_type": "stream",
     "text": [
      "The total number of wheat is: 18446744073709551615\n"
     ]
    }
   ],
   "source": [
    "chessBoard_ndarray = nbr_wheat(8, 8)\n",
    "total_wheat = chessBoard_ndarray.sum()\n",
    "\n",
    "print(\"The total number of wheat is: {}\" .format(total_wheat))"
   ]
  },
  {
   "cell_type": "markdown",
   "id": "d4daad65",
   "metadata": {},
   "source": [
    "# find the average"
   ]
  },
  {
   "cell_type": "code",
   "execution_count": 10,
   "id": "1c54e367",
   "metadata": {},
   "outputs": [
    {
     "name": "stdout",
     "output_type": "stream",
     "text": [
      "Average of each columns: \n",
      "[9.04252160e+15 1.80850432e+16 3.61700864e+16 7.23401728e+16\n",
      " 1.44680346e+17 2.89360691e+17 5.78721383e+17 1.15744277e+18]\n"
     ]
    }
   ],
   "source": [
    "avg_wheat = nbr_wheat(8, 8).mean(axis = 0)\n",
    "\n",
    "print(\"Average of each columns: \\n{}\" .format(avg_wheat))"
   ]
  },
  {
   "cell_type": "markdown",
   "id": "3c5140e2",
   "metadata": {},
   "source": [
    "# [Question 4] Heat map of the number of wheat"
   ]
  },
  {
   "cell_type": "code",
   "execution_count": 13,
   "id": "782096e5",
   "metadata": {},
   "outputs": [
    {
     "name": "stdout",
     "output_type": "stream",
     "text": [
      "[1, 2, 4, 8, 16, 32, 64, 128, 256, 512, 1024, 2048, 4096, 8192, 16384, 32768, 65536, 131072, 262144, 524288, 1048576, 2097152, 4194304, 8388608, 16777216, 33554432, 67108864, 134217728, 268435456, 536870912, 1073741824, 2147483648, 4294967296, 8589934592, 17179869184, 34359738368, 68719476736, 137438953472, 274877906944, 549755813888, 1099511627776, 2199023255552, 4398046511104, 8796093022208, 17592186044416, 35184372088832, 70368744177664, 140737488355328, 281474976710656, 562949953421312, 1125899906842624, 2251799813685248, 4503599627370496, 9007199254740992, 18014398509481984, 36028797018963968, 72057594037927936, 144115188075855872, 288230376151711744, 576460752303423488, 1152921504606846976, 2305843009213693952, 4611686018427387904, 9223372036854775808]\n"
     ]
    }
   ],
   "source": [
    "n_squares = 64\n",
    "small_board_list = [1]\n",
    "for _ in range(n_squares - 1):\n",
    "    small_board_list.append(2*small_board_list[-1])\n",
    "    \n",
    "print(small_board_list)"
   ]
  },
  {
   "cell_type": "code",
   "execution_count": 11,
   "id": "ef7890f5",
   "metadata": {},
   "outputs": [
    {
     "data": {
      "image/png": "[encoded data removed]",
      "text/plain": [
       "<Figure size 432x288 with 1 Axes>"
      ]
     },
     "metadata": {
      "needs_background": "light"
     },
     "output_type": "display_data"
    }
   ],
   "source": [
    "import matplotlib.pyplot as plt\n",
    "%matplotlib inline\n",
    "\n",
    "plt.xlabel(\"column\")\n",
    "plt.ylabel(\"Number\")\n",
    "plt.title(\"Number in each column\")\n",
    "plt.bar(np.arange(1, 9), avg_wheat)\n",
    "plt.show()"
   ]
  },
  {
   "cell_type": "markdown",
   "id": "837f5c38",
   "metadata": {},
   "source": [
    ">The second half of the chessboard"
   ]
  },
  {
   "cell_type": "markdown",
   "id": "032ee0d7",
   "metadata": {},
   "source": [
    "# [Question 5] How many times the second half is the first half?"
   ]
  },
  {
   "cell_type": "code",
   "execution_count": 15,
   "id": "cb84ee2a",
   "metadata": {},
   "outputs": [
    {
     "data": {
      "image/png": "[encoded data removed]",
      "text/plain": [
       "<Figure size 432x288 with 1 Axes>"
      ]
     },
     "metadata": {
      "needs_background": "light"
     },
     "output_type": "display_data"
    }
   ],
   "source": [
    "plt.xlabel(\"column\")\n",
    "plt.ylabel(\"row\")\n",
    "plt.title(\"heatmap\")\n",
    "plt.pcolor(np.array(small_board_list).reshape(8, 8))\n",
    "plt.show()"
   ]
  },
  {
   "cell_type": "code",
   "execution_count": 17,
   "id": "3f863405",
   "metadata": {},
   "outputs": [
    {
     "name": "stdout",
     "output_type": "stream",
     "text": [
      "First half\n",
      "=========================\n",
      "[[         1          2          4          8         16         32\n",
      "          64        128]\n",
      " [       256        512       1024       2048       4096       8192\n",
      "       16384      32768]\n",
      " [     65536     131072     262144     524288    1048576    2097152\n",
      "     4194304    8388608]\n",
      " [  16777216   33554432   67108864  134217728  268435456  536870912\n",
      "  1073741824 2147483648]]\n",
      "second half\n",
      "=========================\n",
      "[[         4294967296          8589934592         17179869184\n",
      "          34359738368         68719476736        137438953472\n",
      "         274877906944        549755813888]\n",
      " [      1099511627776       2199023255552       4398046511104\n",
      "        8796093022208      17592186044416      35184372088832\n",
      "       70368744177664     140737488355328]\n",
      " [    281474976710656     562949953421312    1125899906842624\n",
      "     2251799813685248    4503599627370496    9007199254740992\n",
      "    18014398509481984   36028797018963968]\n",
      " [  72057594037927936  144115188075855872  288230376151711744\n",
      "   576460752303423488 1152921504606846976 2305843009213693952\n",
      "  4611686018427387904 9223372036854775808]]\n"
     ]
    }
   ],
   "source": [
    "whole_chessBoard = nbr_wheat(8, 8)\n",
    "\n",
    "first_half = whole_chessBoard[0:4]\n",
    "second_half = whole_chessBoard[4:8]\n",
    "\n",
    "print(\"First half\")\n",
    "print(\"=========================\")\n",
    "print(first_half)\n",
    "\n",
    "print(\"second half\")\n",
    "print(\"=========================\")\n",
    "print(second_half)"
   ]
  },
  {
   "cell_type": "code",
   "execution_count": 22,
   "id": "3f961f04",
   "metadata": {},
   "outputs": [
    {
     "name": "stdout",
     "output_type": "stream",
     "text": [
      "Number of wheat in the last trout: \n",
      "[                  1                   2                   4\n",
      "                   8                  16                  32\n",
      "                  64                 128                 256\n",
      "                 512                1024                2048\n",
      "                4096                8192               16384\n",
      "               32768               65536              131072\n",
      "              262144              524288             1048576\n",
      "             2097152             4194304             8388608\n",
      "            16777216            33554432            67108864\n",
      "           134217728           268435456           536870912\n",
      "          1073741824          2147483648          4294967296\n",
      "          8589934592         17179869184         34359738368\n",
      "         68719476736        137438953472        274877906944\n",
      "        549755813888       1099511627776       2199023255552\n",
      "       4398046511104       8796093022208      17592186044416\n",
      "      35184372088832      70368744177664     140737488355328\n",
      "     281474976710656     562949953421312    1125899906842624\n",
      "    2251799813685248    4503599627370496    9007199254740992\n",
      "   18014398509481984   36028797018963968   72057594037927936\n",
      "  144115188075855872  288230376151711744  576460752303423488\n",
      " 1152921504606846976 2305843009213693952 4611686018427387904\n",
      " 9223372036854775808]\n"
     ]
    }
   ],
   "source": [
    "indices_squares = np.arange(n_squares).astype(np.uint64)\n",
    "board_broadcast = 2**indices_squares\n",
    "\n",
    "print(\"Number of wheat in the last trout: \\n{}\".format(board_broadcast))"
   ]
  },
  {
   "cell_type": "markdown",
   "id": "4578fe5a",
   "metadata": {},
   "source": [
    "# [Question 7] Comparison of calculation time"
   ]
  },
  {
   "cell_type": "code",
   "execution_count": 23,
   "id": "15bbe711",
   "metadata": {},
   "outputs": [
    {
     "name": "stdout",
     "output_type": "stream",
     "text": [
      "80 ns ± 8.09 ns per loop (mean ± std. dev. of 7 runs, 10000000 loops each)\n"
     ]
    }
   ],
   "source": [
    "%%timeit\n",
    "small_board_ndarray\n"
   ]
  },
  {
   "cell_type": "code",
   "execution_count": 24,
   "id": "dfdae43d",
   "metadata": {},
   "outputs": [
    {
     "name": "stdout",
     "output_type": "stream",
     "text": [
      "72.2 ns ± 7.24 ns per loop (mean ± std. dev. of 7 runs, 10000000 loops each)\n"
     ]
    }
   ],
   "source": [
    "%%timeit\n",
    "board_broadcast\n"
   ]
  },
  {
   "cell_type": "code",
   "execution_count": null,
   "id": "191de7cb",
   "metadata": {},
   "outputs": [],
   "source": []
  }
 ],
 "metadata": {
  "kernelspec": {
   "display_name": "Python 3 (ipykernel)",
   "language": "python",
   "name": "python3"
  },
  "language_info": {
   "codemirror_mode": {
    "name": "ipython",
    "version": 3
   },
   "file_extension": ".py",
   "mimetype": "text/x-python",
   "name": "python",
   "nbconvert_exporter": "python",
   "pygments_lexer": "ipython3",
   "version": "3.9.7"
  }
 },
 "nbformat": 4,
 "nbformat_minor": 5
}
