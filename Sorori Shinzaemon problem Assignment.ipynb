{
 "cells": [
  {
   "cell_type": "markdown",
   "id": "566fde2a",
   "metadata": {},
   "source": [
    "# [Question 1] Number of rice grains on the 100th day"
   ]
  },
  {
   "cell_type": "code",
   "execution_count": 14,
   "id": "10477568",
   "metadata": {},
   "outputs": [
    {
     "name": "stdout",
     "output_type": "stream",
     "text": [
      "1 1\n",
      "2 2\n",
      "3 4\n",
      "4 8\n",
      "5 16\n",
      "Sum of rice in 5 days is: 32\n"
     ]
    }
   ],
   "source": [
    "nbr_days = 5\n",
    "total_grainRice = 1\n",
    "x_axis = list(range(1, nbr_days + 1))\n",
    "y_axis = []\n",
    "\n",
    "for i in range(1, nbr_days + 1):\n",
    "    print(i, total_grainRice)\n",
    "    total_grainRice *=2\n",
    "    \n",
    "y_axis.append(total_grainRice)\n",
    "total_grainRice = (2 ** i)\n",
    "\n",
    "print(\"Sum of rice in {} days is: {}\".format(i, total_grainRice))"
   ]
  },
  {
   "cell_type": "code",
   "execution_count": null,
   "id": "a69e528c",
   "metadata": {},
   "outputs": [],
   "source": []
  },
  {
   "cell_type": "code",
   "execution_count": 2,
   "id": "2bc78ad0",
   "metadata": {},
   "outputs": [
    {
     "name": "stdout",
     "output_type": "stream",
     "text": [
      "Day 1, the total grain of rice is: 1\n",
      "Day 2, the total grain of rice is: 2\n",
      "Day 3, the total grain of rice is: 4\n",
      "Day 4, the total grain of rice is: 8\n",
      "Day 5, the total grain of rice is: 16\n",
      "Day 6, the total grain of rice is: 32\n",
      "Day 7, the total grain of rice is: 64\n",
      "Day 8, the total grain of rice is: 128\n",
      "Day 9, the total grain of rice is: 256\n",
      "Day 10, the total grain of rice is: 512\n",
      "Sum of rice in 10 days is: 1024\n"
     ]
    },
    {
     "data": {
      "image/png": "[encoded data removed]",
      "text/plain": [
       "<Figure size 432x288 with 1 Axes>"
      ]
     },
     "metadata": {
      "needs_background": "light"
     },
     "output_type": "display_data"
    }
   ],
   "source": [
    "import matplotlib.pyplot as plt\n",
    "#%matplotlib inline\n",
    "\n",
    "nbr_days = 10\n",
    "total_grainRice = 1\n",
    "x_axis = list(range(1, nbr_days + 1))\n",
    "y_axis = []\n",
    "\n",
    "for i in range(1, nbr_days + 1,):\n",
    "    print(\"Day {}, the total grain of rice is: {}\" .format(i, total_grainRice))\n",
    "    total_grainRice *=2\n",
    "    \n",
    "    \n",
    "    y_axis.append(total_grainRice)\n",
    "    #total_grainRice = (2 ** i)\n",
    "\n",
    "print(\"Sum of rice in {} days is: {}\".format(i, total_grainRice))\n",
    "\n",
    "\n",
    "plt.title(\"Change in the number of RICE GRAIN\", c = \"b\")\n",
    "plt.xlabel(\"number of Days\", c = \"b\")\n",
    "plt.ylabel(\"number of Rice\", c = \"b\")\n",
    "plt.plot(x_axis, y_axis, lw = 4)  \n",
    "plt.tick_params(labelsize = 15)\n",
    "plt.show()"
   ]
  },
  {
   "cell_type": "markdown",
   "id": "bcea433d",
   "metadata": {},
   "source": [
    "# [Question 2] Number of rice grains other than the 100th day"
   ]
  },
  {
   "cell_type": "code",
   "execution_count": 24,
   "id": "0e2863c2",
   "metadata": {},
   "outputs": [
    {
     "name": "stdout",
     "output_type": "stream",
     "text": [
      "Enter number of days: 5\n",
      "Days: 5\n",
      "Grains: 31\n"
     ]
    }
   ],
   "source": [
    "#import matplotlib.pyplot as plt\n",
    "\n",
    "def compute_sorori(nbr_days = 100):\n",
    "    for x in range(1, nbr_days + 1,):\n",
    "        list_n_days = (lambda x: x)(x)\n",
    "    \n",
    "    for x in range(1, nbr_days + 1,):\n",
    "        list_total_grains = (2**x-1)\n",
    "      \n",
    "    return list_n_days, list_total_grains\n",
    "\n",
    "\n",
    "list_n_days, list_total_grains = compute_sorori(nbr_days = int(input(\"Enter number of days: \")))\n",
    "\n",
    "#print(\"Days: {}\" .format(compute_sorori(15)))\n",
    "print(\"Days: {}\" .format(list_n_days))\n",
    "      \n",
    "print(\"Grains: {}\" .format(list_total_grains))\n",
    "\n"
   ]
  },
  {
   "cell_type": "markdown",
   "id": "73aee284",
   "metadata": {},
   "source": [
    "# 【Problem 3] How many people can live for how many days with the rice we get?"
   ]
  },
  {
   "cell_type": "markdown",
   "id": "147265e0",
   "metadata": {},
   "source": [
    "Given that **one adult need 400 grams, or roughly 19,200 grains of rice**, \n",
    "to sustain them for a day, the ***World Food Program of the United Nations*** \n",
    "estimated that this amount could feed 50,000 people. \n",
    "Based on this assessment, there was enough rice donated in 2008 to \n",
    "feed more than 6,000 people every day for the entire year.\n",
    "\n",
    "***Wikimedia Foundation. (2022, October 20). Freerice. Wikipedia. Retrieved October 26, 2022, from https://en.wikipedia.org/wiki/Freerice ****"
   ]
  },
  {
   "cell_type": "code",
   "execution_count": 93,
   "id": "5bf1b2df",
   "metadata": {},
   "outputs": [
    {
     "name": "stdout",
     "output_type": "stream",
     "text": [
      "Enter number of grains: 19200\n",
      "Enter number of people: 5\n",
      "Number of days to live: 2\n"
     ]
    }
   ],
   "source": [
    "def compute_sorori(nbr_grains, nbr_pp,):\n",
    "    \n",
    "    for x in range(1, nbr_grains * 2,):\n",
    "        total_grains = (nbr_grains + nbr_grains) \n",
    "    \n",
    "        \n",
    "    days_to_live = (nbr_grains * nbr_pp)/total_grains\n",
    "    #nbr_pp = total_grains/(nbr_grains * days_to_live)\n",
    "    \n",
    "    return days_to_live\n",
    "\n",
    "\n",
    "days_to_live = compute_sorori(nbr_grains = int(input(\"Enter number of grains: \")), nbr_pp = int(input(\"Enter number of people: \")))     \n",
    "\n",
    "print(\"Number of days to live: {}\" .format(int(days_to_live)))"
   ]
  },
  {
   "cell_type": "code",
   "execution_count": null,
   "id": "d486c69a",
   "metadata": {},
   "outputs": [],
   "source": []
  },
  {
   "cell_type": "code",
   "execution_count": null,
   "id": "63320457",
   "metadata": {},
   "outputs": [],
   "source": []
  },
  {
   "cell_type": "code",
   "execution_count": null,
   "id": "d814c6a0",
   "metadata": {},
   "outputs": [],
   "source": []
  },
  {
   "cell_type": "code",
   "execution_count": null,
   "id": "eea1c291",
   "metadata": {},
   "outputs": [],
   "source": []
  },
  {
   "cell_type": "code",
   "execution_count": null,
   "id": "476e241c",
   "metadata": {},
   "outputs": [],
   "source": []
  },
  {
   "cell_type": "code",
   "execution_count": null,
   "id": "d7edb43b",
   "metadata": {},
   "outputs": [],
   "source": []
  },
  {
   "cell_type": "code",
   "execution_count": null,
   "id": "693e4900",
   "metadata": {},
   "outputs": [],
   "source": []
  },
  {
   "cell_type": "code",
   "execution_count": null,
   "id": "f964715d",
   "metadata": {},
   "outputs": [],
   "source": []
  },
  {
   "cell_type": "code",
   "execution_count": null,
   "id": "6e4e0a62",
   "metadata": {},
   "outputs": [],
   "source": []
  },
  {
   "cell_type": "code",
   "execution_count": null,
   "id": "181764b7",
   "metadata": {},
   "outputs": [],
   "source": []
  },
  {
   "cell_type": "code",
   "execution_count": null,
   "id": "540bdab8",
   "metadata": {},
   "outputs": [],
   "source": []
  },
  {
   "cell_type": "code",
   "execution_count": null,
   "id": "c56f5ebf",
   "metadata": {},
   "outputs": [],
   "source": []
  },
  {
   "cell_type": "code",
   "execution_count": null,
   "id": "731bf4d4",
   "metadata": {},
   "outputs": [],
   "source": []
  },
  {
   "cell_type": "code",
   "execution_count": null,
   "id": "28764de1",
   "metadata": {},
   "outputs": [],
   "source": []
  }
 ],
 "metadata": {
  "kernelspec": {
   "display_name": "Python 3 (ipykernel)",
   "language": "python",
   "name": "python3"
  },
  "language_info": {
   "codemirror_mode": {
    "name": "ipython",
    "version": 3
   },
   "file_extension": ".py",
   "mimetype": "text/x-python",
   "name": "python",
   "nbconvert_exporter": "python",
   "pygments_lexer": "ipython3",
   "version": "3.9.7"
  }
 },
 "nbformat": 4,
 "nbformat_minor": 5
}
